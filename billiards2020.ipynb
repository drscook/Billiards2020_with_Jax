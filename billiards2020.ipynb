{
  "nbformat": 4,
  "nbformat_minor": 0,
  "metadata": {
    "colab": {
      "name": "billiards2020.ipynb",
      "provenance": [],
      "private_outputs": true,
      "collapsed_sections": [],
      "authorship_tag": "ABX9TyP7zXNetfLd/uqly3+fG7RG",
      "include_colab_link": true
    },
    "kernelspec": {
      "name": "python3",
      "display_name": "Python 3"
    },
    "accelerator": "GPU"
  },
  "cells": [
    {
      "cell_type": "markdown",
      "metadata": {
        "id": "view-in-github",
        "colab_type": "text"
      },
      "source": [
        "<a href=\"https://colab.research.google.com/github/drscook/Billiards2020_with_Jax/blob/master/billiards2020.ipynb\" target=\"_parent\"><img src=\"https://colab.research.google.com/assets/colab-badge.svg\" alt=\"Open In Colab\"/></a>"
      ]
    },
    {
      "cell_type": "code",
      "metadata": {
        "id": "4Ea3AQ0j0rbf",
        "colab_type": "code",
        "colab": {},
        "cellView": "code"
      },
      "source": [
        "# ! pip install ipython-autotime\n",
        "# %load_ext autotime\n",
        "\n",
        "# ! pip install codetiming\n",
        "# from codetiming import Timer\n",
        "\n",
        "import numpy as np\n",
        "import scipy.stats as stats\n",
        "try:\n",
        "    import jax\n",
        "    import jaxlib\n",
        "    import jax.numpy as jnp\n",
        "    jax.config.update('jax_enable_x64', True)\n",
        "    print(f\"Using jax {jax.__version__} and jaxlib {jaxlib.__version__}\")\n",
        "    JAX_AVAILABLE = True\n",
        "except:\n",
        "    print('Error importing jax; importing numpy as jnp instead')\n",
        "    import numpy as jnp\n",
        "    JAX_AVAILABLE = False\n",
        "\n",
        "\n",
        "##################### Utility Functions #####################\n",
        "def arrify(x):\n",
        "    try:\n",
        "        x.shape\n",
        "    except:\n",
        "        x = jnp.asarray(x) \n",
        "    if x.ndim == 0:\n",
        "        x = x.reshape(-1)\n",
        "    return x\n",
        "\n",
        "\n",
        "##################### Numpy & Jax Standardization #####################\n",
        "def put(arr, vals=0, idx=None):\n",
        "    try:\n",
        "        arr = arr.at[idx].set(vals)  # jax\n",
        "    except:\n",
        "        arr[idx] = vals  # numpy\n",
        "    return arr\n",
        "\n",
        "def add(arr, vals=0, idx=None):\n",
        "    try:\n",
        "        arr = arr.at[idx].add(vals)  # jax\n",
        "    except:\n",
        "        arr[idx] += vals  # numpy\n",
        "    return arr\n",
        "\n",
        "def mul(arr, vals=1, idx=None):\n",
        "    try:\n",
        "        arr = arr.at[idx].mul(vals)  # jax\n",
        "    except:\n",
        "        arr[idx] *= vals  # numpy\n",
        "    return arr\n",
        "\n",
        "def minimum(arr, vals=np.PINF, idx=None):\n",
        "    try:\n",
        "        arr = arr.at[idx].min(vals)  # jax\n",
        "    except:\n",
        "        arr[idx] = jnp.minimum(arr[idx], vals)  # numpy\n",
        "    return arr\n",
        "\n",
        "def maximum(arr, vals=np.NINF, idx=None):\n",
        "    try:\n",
        "        arr = arr.at[idx].max(vals)  # jax\n",
        "    except:\n",
        "        arr[idx] = jnp.maximum(arr[idx], vals)  # numpy\n",
        "    return arr\n",
        "\n",
        "class jax_RandomState():\n",
        "    \"\"\"\n",
        "    Jax rng object with same syntax as np.randomState\n",
        "    \"\"\"\n",
        "    def __init__(self, seed=42):\n",
        "        self.seed = seed\n",
        "        self.key = key = jax.random.PRNGKey(seed)\n",
        "        self.tol = 1e-5\n",
        "\n",
        "    def randint(self, low, high=None, size=1, dtype=None):\n",
        "        if high is None:\n",
        "            high = low\n",
        "            low = 0\n",
        "        if low > high:\n",
        "            print(\"specified low > high; I'll swap them\")\n",
        "            low, high = high, low\n",
        "        return jax.random.randint(self.key, minval=low, maxval=high,\n",
        "                                  shape=arrify(size), dtype=dtype)\n",
        "\n",
        "    def uniform(self, low=0, high=1, size=1, dtype=None):\n",
        "        return jax.random.uniform(self.key, minval=low, maxval=high,\n",
        "                                  shape=arrify(size))#, dtype=dtype)\n",
        "\n",
        "    def normal(self, loc=0, scale=1, size=1):\n",
        "        x = jax.random.normal(self.key, shape=arrify(size))\n",
        "        if abs(scale - 1.0) > self.tol:\n",
        "            x *= scale\n",
        "        if abs(loc) > self.tol:\n",
        "            x += loc\n",
        "        return x\n",
        "\n",
        "    def multivariate_normal(self, mean=0, cov=None, size=1, dtype=None):\n",
        "        mean = arrify(mean)\n",
        "        dim = mean.shape[0]\n",
        "        if cov is None:\n",
        "            cov = jnp.eye(dim)\n",
        "            print(f\"cov not specified; using identity matrix\")\n",
        "        cov = self._arrayify(cov)\n",
        "        sh = cov.shape\n",
        "        if (len(sh) != 2) or (sh[0] != dim) or (sh[0] != sh[1]):\n",
        "            raise Exception(f\"cov has shape {sh}; should be ({dim}, {dim})\")\n",
        "        if dim == 1:\n",
        "            return self.normal(loc=mean[0], scale=cov[0,0], size=size, dtype=dtype)\n",
        "        else:\n",
        "            return jax.random.multivariate_normal(self.key, mean=mean, cov=cov,\n",
        "                                                  shape=arrify(size), dtype=dtype)\n",
        "\n",
        "    def choice(self, a, replace=True, p=None, size=1):\n",
        "        try:\n",
        "            return jax.random.choice(self.key, a, replace=replace, p=p, shape=arrify(size))\n",
        "        except Exception as e:\n",
        "            print(f\"You're running jax {jax.__version__}, but random.choice appears to be implemented in jax 0.1.71.  Sadly, jax > 0.1.69 can not utilize colab GPU (as of 2020-07-11).\")\n",
        "            print(e)\n",
        "        return \n",
        "\n",
        "    def permutation(self, x):\n",
        "        return jax.random.permutation(self.key, x)\n",
        "\n",
        "def pick_jnp(num_part=1, seed=42, force_numpy=False, force_jax=False):\n",
        "    \"\"\"\n",
        "    Determines whether to use jax or numpy.  Can force it, or allow detection.\n",
        "    \"\"\"\n",
        "    global jnp, USE_JAX, nx, jx\n",
        "    if (force_jax is True) and (JAX_AVAILABLE is True):\n",
        "        print(\"Given force_jax = True\")\n",
        "        USE_JAX = True\n",
        "    elif force_numpy is True:\n",
        "        print(\"Given force_numpy = True\")\n",
        "        USE_JAX = False\n",
        "    elif JAX_AVAILABLE is False:\n",
        "        print(\"Jax not available\")\n",
        "        USE_JAX = False\n",
        "    else:\n",
        "        nx = np.random.uniform(size=num_part)\n",
        "        np_time = %timeit -o -q add_outer(nx, -nx)\n",
        "        np_time = round(np_time.best * 1000000)\n",
        "\n",
        "        import jax.numpy as jnp\n",
        "        jx = jnp.array(nx)\n",
        "        jax_time = %timeit -o -q add_outer(jx, -jx).block_until_ready()\n",
        "        jax_time = round(jax_time.best * 1000000)\n",
        "        USE_JAX = jax_time < np_time\n",
        "        print(f\"For {num_part} particles, numpy time = {np_time} µs vs jax time = {jax_time} µs.\")\n",
        "    \n",
        "    if USE_JAX is True:\n",
        "        print(\"importing jax.numpy as jnp.\")\n",
        "        import jax.numpy as jnp\n",
        "        rng = jax_RandomState(seed)\n",
        "    else:\n",
        "        print(\"importing numpy as jnp.\")\n",
        "        import numpy as jnp\n",
        "        rng = np.random.RandomState(seed)\n",
        "    return rng\n",
        "\n"
      ],
      "execution_count": null,
      "outputs": []
    },
    {
      "cell_type": "code",
      "metadata": {
        "id": "kGUKgTGqq8kp",
        "colab_type": "code",
        "colab": {}
      },
      "source": [
        "##################### Geometric Functions #####################\n",
        "def outer_reshape(x, y):\n",
        "    a, b = arrify(x), arrify(y)\n",
        "    return a.reshape(list(a.shape) + [1] * b.ndim), b.reshape(a.ndim * [1] + list(b.shape))\n",
        "\n",
        "def outer_add(x, y):\n",
        "    a, b = outer_reshape(x, y)\n",
        "    c = a + b\n",
        "    return c\n",
        "\n",
        "def outer_subtract(x, y):\n",
        "    a, b = outer_reshape(x, y)\n",
        "    c = a - b\n",
        "    return c\n",
        "\n",
        "# def make_unit(x):"
      ],
      "execution_count": null,
      "outputs": []
    },
    {
      "cell_type": "code",
      "metadata": {
        "id": "HuOzCdu-OzSJ",
        "colab_type": "code",
        "colab": {}
      },
      "source": [
        "from abc import ABC, abstractmethod\n",
        "\n",
        "class BaseClass(ABC):\n",
        "    def __getitem__(self, key):\n",
        "        return getattr(self,key)\n",
        "\n",
        "    def __setitem__(self, key, val):\n",
        "        setattr(self, key, val)\n",
        "\n",
        "def check_pos(val, nm=''):\n",
        "    assert jnp.all(val >= 0.0); f\"all {nm} should be >= 0; got {val}\"\n",
        "\n",
        "class Particles(BaseClass):\n",
        "    def __init__(self, dim=3, num=1, mass=1.0, radius=2.0, gamma=0.5):\n",
        "        self.dim = round(dim)\n",
        "        check_pos(self.dim, 'dim')\n",
        "        self.num = round(num)\n",
        "        check_pos(self.num, 'num')\n",
        "\n",
        "        # scalars\n",
        "        for key, val in {'mass':mass, 'radius':radius, 'gamma':gamma, 'collisions':0}.items():\n",
        "            arr = arrify(val).ravel()\n",
        "            self[key] = put(arr[-1]*jnp.ones([num, 1]), vals=arr, idx=(slice(len(arr)),0))\n",
        "            check_pos(self[key], key)\n",
        "        assert jnp.all(self.gamma <= 1.0); f\"all gamma should be <= 1; got {self.gamma}\"\n",
        "\n",
        "        # vectors\n",
        "        for key, d in {'pos':[dim], 'vel':[dim], 'rot':[dim,dim], 'spin':[dim,dim]}.items():\n",
        "            self[key] = jnp.ones([num] + d) * np.PINF\n",
        "\n",
        "        assert ((0.0 <= self.gamma) & (self.gamma <= 1.0)).all(); f\"all gamma should be btw 0 & 1; got {self.gamma}\"\n",
        "        self.beta = 2 * jnp.arctan(self.gamma)\n",
        "        self.moment_of_interia = self.mass * (self.gamma * self.radius) ** 2\n",
        "        g = 1 + self.gamma ** 2\n",
        "        a = (1 - self.gamma ** 2) / g\n",
        "        b = 2 * self.gamma / g\n",
        "        self.no_slip_matrix = jnp.array([[-1, 0, 0],\n",
        "                                         [0, a, -b],\n",
        "                                         [0, -b, -a],\n",
        "                                         ])\n",
        "\n",
        "    def get_no_slip_matrix = \n",
        "\n",
        "    # def rand_\n",
        "\n",
        "num_part = 3\n",
        "rng = pick_jnp(num_part, force_jax=True)#, force_numpy=True)\n",
        "part = Particles(dim=3, num=num_part, mass=[2.0, 4.0], radius=[1.0, 3.0])\n",
        "part.radius.shape\n",
        "part.collisions"
      ],
      "execution_count": null,
      "outputs": []
    },
    {
      "cell_type": "code",
      "metadata": {
        "id": "5CZ7FHM7BjHi",
        "colab_type": "code",
        "colab": {}
      },
      "source": [
        "a = rng.uniform(size=4)\n",
        "a\n",
        "assert ((0 < a) & (a < 1)).all()"
      ],
      "execution_count": null,
      "outputs": []
    },
    {
      "cell_type": "code",
      "metadata": {
        "id": "_5ralWzL_d4V",
        "colab_type": "code",
        "colab": {}
      },
      "source": [
        "type(round(7.3))"
      ],
      "execution_count": null,
      "outputs": []
    },
    {
      "cell_type": "code",
      "metadata": {
        "id": "pUZKszBibJHR",
        "colab_type": "code",
        "colab": {}
      },
      "source": [
        "! pip install pydap"
      ],
      "execution_count": null,
      "outputs": []
    },
    {
      "cell_type": "code",
      "metadata": {
        "id": "1j6OGY1pa2J1",
        "colab_type": "code",
        "colab": {}
      },
      "source": [
        "import xarray as xr\n",
        "url = \"http://www.esrl.noaa.gov/psd/thredds/dodsC/Datasets/noaa.ersst.v5/sst.mnmean.nc\"\n",
        "# drop an unnecessary variable which complicates some operations\n",
        "ds = xr.open_dataset(url, drop_variables=[\"time_bnds\"])\n",
        "# will take a minute or two to complete\n",
        "ds = ds.sel(time=slice(\"1960\", \"2018\")).load()\n",
        "ds"
      ],
      "execution_count": null,
      "outputs": []
    },
    {
      "cell_type": "code",
      "metadata": {
        "id": "BX16Gs82blnT",
        "colab_type": "code",
        "colab": {}
      },
      "source": [
        "with xr.set_options(display_style=\"html\"):\n",
        "    display(ds)"
      ],
      "execution_count": null,
      "outputs": []
    },
    {
      "cell_type": "code",
      "metadata": {
        "id": "AEnKnfrkb2Nc",
        "colab_type": "code",
        "colab": {}
      },
      "source": [
        ""
      ],
      "execution_count": null,
      "outputs": []
    },
    {
      "cell_type": "code",
      "metadata": {
        "id": "DQ1OziBcb2sm",
        "colab_type": "code",
        "colab": {}
      },
      "source": [
        "ds.sst"
      ],
      "execution_count": null,
      "outputs": []
    },
    {
      "cell_type": "code",
      "metadata": {
        "id": "CAH6Ve0S5A6x",
        "colab_type": "code",
        "colab": {}
      },
      "source": [
        "num_part = 1000\n",
        "rng = pick_jnp(num_part)#, force_jax=True)#, force_numpy=True)\n",
        "\n",
        "\n",
        "\n",
        "r = rng.uniform(size=(2,3))\n",
        "print(type(r), r)"
      ],
      "execution_count": null,
      "outputs": []
    },
    {
      "cell_type": "code",
      "metadata": {
        "id": "yj2iyEtMIvKN",
        "colab_type": "code",
        "colab": {}
      },
      "source": [
        "jax.config.values"
      ],
      "execution_count": null,
      "outputs": []
    },
    {
      "cell_type": "code",
      "metadata": {
        "id": "U9CevnXipKyE",
        "colab_type": "code",
        "colab": {}
      },
      "source": [
        "seed = 42\n",
        "num_part = 1000\n",
        "\n",
        "nx = np.random.uniform(size=num_part)\n",
        "np_time = %timeit -o -q add_outer(nx, -nx)\n",
        "np_time = round(np_time.best * 1000000)\n",
        "\n",
        "import jax.numpy as jnp\n",
        "jx = jnp.array(nx)\n",
        "jax_time = %timeit -o -q add_outer(jx, -jx).block_until_ready()\n",
        "jax_time = round(jax_time.best * 1000000)\n",
        "\n",
        "if np_time <= jax_time:\n",
        "    print(f\"For {num_part} particles, numpy seems to be faster than jax ({np_time} vs {jax_time} µs).  So, I'll import numpy as jnp.\")\n",
        "    import numpy as jnp\n",
        "    rng = np.random.RandomState(seed)\n",
        "else:\n",
        "    print(f\"For {num_part} particles, numpy seems to be slower than jax ({np_time} vs {jax_time} µs).  So, I'll import jax.numpy as jnp.\")\n",
        "    import jax.numpy as jnp\n",
        "    rng = jax_RandomState(seed)\n",
        "type(jnp.arange(10))\n",
        "\n",
        "\n",
        "\n",
        "\n"
      ],
      "execution_count": null,
      "outputs": []
    },
    {
      "cell_type": "code",
      "metadata": {
        "id": "gFT21oSY4bbb",
        "colab_type": "code",
        "colab": {}
      },
      "source": [
        "import numpy as jnp\n",
        "print(jnp)\n",
        "\n",
        "def f():\n",
        "    global jnp\n",
        "    import jax.numpy as jnp\n",
        "\n",
        "f()\n",
        "print(jnp)"
      ],
      "execution_count": null,
      "outputs": []
    },
    {
      "cell_type": "code",
      "metadata": {
        "id": "Gz4rAr6D0e2H",
        "colab_type": "code",
        "colab": {}
      },
      "source": [
        "np.random.uniform?"
      ],
      "execution_count": null,
      "outputs": []
    },
    {
      "cell_type": "code",
      "metadata": {
        "id": "mA5Mn9S5tPrt",
        "colab_type": "code",
        "colab": {}
      },
      "source": [
        "np_time.best"
      ],
      "execution_count": null,
      "outputs": []
    },
    {
      "cell_type": "code",
      "metadata": {
        "id": "G_jpO0_tpdUi",
        "colab_type": "code",
        "colab": {}
      },
      "source": [
        ""
      ],
      "execution_count": null,
      "outputs": []
    },
    {
      "cell_type": "code",
      "metadata": {
        "id": "DmduimRZnlEP",
        "colab_type": "code",
        "colab": {}
      },
      "source": [
        "# t = 7\n",
        "\n",
        "def f(a=t):\n",
        "    print(a)\n",
        "\n",
        "# f(5)"
      ],
      "execution_count": null,
      "outputs": []
    },
    {
      "cell_type": "code",
      "metadata": {
        "id": "TKe0kb2bfr1h",
        "colab_type": "code",
        "colab": {}
      },
      "source": [
        "x = rng['jax'].uniform(size=num_part)\n",
        "%timeit x.reshape(-1,1)\n",
        "\n",
        "x = rng['jax'].uniform(size=num_part)\n",
        "%timeit x[:,jnp.newaxis]\n",
        "x.shape\n",
        "# x = "
      ],
      "execution_count": null,
      "outputs": []
    },
    {
      "cell_type": "code",
      "metadata": {
        "id": "01ixBKdui_Wx",
        "colab_type": "code",
        "colab": {}
      },
      "source": [
        "x = rng['np'].uniform(size=num_part)\n",
        "%timeit x.reshape(-1,1)\n",
        "\n",
        "x = rng['jax'].uniform(size=num_part)\n",
        "%timeit x[:,jnp.newaxis]\n",
        "x.shape\n",
        "# x = "
      ],
      "execution_count": null,
      "outputs": []
    },
    {
      "cell_type": "code",
      "metadata": {
        "id": "7kbrHmmuZnXq",
        "colab_type": "code",
        "colab": {}
      },
      "source": [
        "with Timer('hi'):\n",
        "    x.reshape(-1,1) - x.reshape(1,-1)\n",
        "print(x)"
      ],
      "execution_count": null,
      "outputs": []
    },
    {
      "cell_type": "code",
      "metadata": {
        "id": "QUiolrl0fH6-",
        "colab_type": "code",
        "colab": {}
      },
      "source": [
        "jnp.subtract.outer(x, x)"
      ],
      "execution_count": null,
      "outputs": []
    },
    {
      "cell_type": "code",
      "metadata": {
        "id": "1z0IsMarbGFa",
        "colab_type": "code",
        "colab": {}
      },
      "source": [
        "Timer.timers"
      ],
      "execution_count": null,
      "outputs": []
    },
    {
      "cell_type": "code",
      "metadata": {
        "id": "gixOMEozPsGP",
        "colab_type": "code",
        "colab": {}
      },
      "source": [
        " timeit.timeit('\"-\".join(str(n) for n in range(100))', number=10000)"
      ],
      "execution_count": null,
      "outputs": []
    },
    {
      "cell_type": "code",
      "metadata": {
        "id": "nk6xBQoGdT8D",
        "colab_type": "code",
        "colab": {}
      },
      "source": [
        ""
      ],
      "execution_count": null,
      "outputs": []
    },
    {
      "cell_type": "code",
      "metadata": {
        "id": "61BP2umTGlGx",
        "colab_type": "code",
        "colab": {}
      },
      "source": [
        "# %timeit x.reshape(-1,1) - x.reshape(1,-1)\n",
        "# %timeit np.subtract(x.reshape(-1,1), x.reshape(1,-1))\n",
        "\n",
        "# print(x.shape)\n",
        "# with Timer('np'):\n",
        "#     for _ in range(reps):\n",
        "#         x@x.T\n",
        "#         # 1+2\n",
        "\n",
        "x = rng['jax'].uniform(size=num_part)\n",
        "# %timeit (x.reshape(-1,1) - x.reshape(1,-1)).block_until_ready()\n",
        "jnp.subtract(x.reshape(-1,1), x.reshape(1,-1))\n",
        "\n",
        "%timeit jnp.subtract(x.reshape(-1,1), x.reshape(1,-1)).block_until_ready()\n",
        "# with Timer('jax'):\n",
        "#     for _ in range(reps):\n",
        "#         (x@x.T).block_until_ready()\n",
        "# print(Timer.timers)\n",
        "\n",
        "# T = {}\n",
        "# for mod, r in rng.items():\n",
        "\n",
        "\n",
        "#     if mod == 'np':\n",
        "#         f = lambda : x@x.T\n",
        "#     elif mod == 'jax':\n",
        "#         f = lambda : (x@x.T).block_until_ready()\n",
        "\n",
        "\n",
        "    \n",
        "#     T[mod] = round(timeit.timeit(\"f()\", setup=\"from __main__ import f\", number=reps) / reps * 1000000, 3)\n",
        "    \n",
        "#     # timeit.timeit(f(), setup ) / reps * 1000\n",
        "# if T['np'] < T['jax']:\n",
        "#     print(f\"For {num_part} particles, numpy seems to be faster ({T['np']} µs) than jax ({T['jax']} µs).  So, I'll use numpy.\")\n",
        "# else:\n",
        "#     print(f\"For {num_part} particles, numpy seems to be slower ({T['np']} µs) than jax ({T['jax']} µs).  So, I'll use jax.\")\n",
        "\n",
        "# # xnp = rng['np'].uniform(num_part)\n",
        "\n"
      ],
      "execution_count": null,
      "outputs": []
    },
    {
      "cell_type": "code",
      "metadata": {
        "id": "rh3fqHdWTzXw",
        "colab_type": "code",
        "colab": {}
      },
      "source": [
        "x = 7\n",
        "f = lambda : x\n",
        "f()"
      ],
      "execution_count": null,
      "outputs": []
    },
    {
      "cell_type": "code",
      "metadata": {
        "id": "n5ZbIOKbDLz0",
        "colab_type": "code",
        "colab": {}
      },
      "source": [
        "\n",
        "\n",
        "arr = np.random.rand(2,3)\n",
        "print(arrayify(arr).shape)\n",
        "print(arrayify((3,4,5)).shape)\n",
        "\n",
        "# %timeit jarrayify(3)\n",
        "arrify(3)\n",
        "# %timeit arrayify2(3)"
      ],
      "execution_count": null,
      "outputs": []
    },
    {
      "cell_type": "code",
      "metadata": {
        "id": "-iNy7QHJBuve",
        "colab_type": "code",
        "colab": {}
      },
      "source": [
        "x@x.T"
      ],
      "execution_count": null,
      "outputs": []
    },
    {
      "cell_type": "code",
      "metadata": {
        "id": "JyyuQmW2PR49",
        "colab_type": "code",
        "colab": {}
      },
      "source": [
        "import numpy as np\n",
        "\n",
        "    # return arr\n",
        "\n",
        "# x = jnp.ones((5, 6))\n",
        "x = np.ones((5, 6))\n",
        "y = np.ones((5, 6)) * 5\n",
        "# x = mulat(x, (1,2), 100)\n",
        "x = minimum(x)\n",
        "x\n",
        "# %timeit mulat(x, (1,2), 100)\n",
        "\n",
        "# x2 = np.ones((5, 6))\n",
        "# x2 = mulat2(x2, (1,2), 100)\n",
        "# %timeit mulat2(x, (1,2), 100)\n",
        "# # addat(x)\n",
        "# (x == x2).all()\n",
        "# print(x.shape, type(x))\n",
        "\n",
        "\n",
        "# x.at([2,4])"
      ],
      "execution_count": null,
      "outputs": []
    },
    {
      "cell_type": "code",
      "metadata": {
        "id": "od1I63hBZD-R",
        "colab_type": "code",
        "colab": {}
      },
      "source": [
        "x = jax.numpy.ones((5, 6))\n",
        "y = x.at[(1,2)]\n",
        "# x\n",
        "y."
      ],
      "execution_count": null,
      "outputs": []
    },
    {
      "cell_type": "code",
      "metadata": {
        "id": "wcQvx63TWsDG",
        "colab_type": "code",
        "colab": {}
      },
      "source": [
        "x = jax.numpy.ones((5, 6))\n",
        "x = np.ones((5, 6))\n",
        "x = jax.ops.index_mul(x, jax.ops.index[2:4, 3:], 6.)\n",
        "x"
      ],
      "execution_count": null,
      "outputs": []
    },
    {
      "cell_type": "code",
      "metadata": {
        "id": "MwPjFk9BWRf4",
        "colab_type": "code",
        "colab": {}
      },
      "source": [
        "jax.ops.index_mul??"
      ],
      "execution_count": null,
      "outputs": []
    },
    {
      "cell_type": "code",
      "metadata": {
        "id": "j7bzElm7TOp2",
        "colab_type": "code",
        "colab": {}
      },
      "source": [
        "\n",
        "N = 10\n",
        "x = rng['jax'].normal(size=(N, N)).astype('float32')\n",
        "x.at().set(1.0)"
      ],
      "execution_count": null,
      "outputs": []
    },
    {
      "cell_type": "code",
      "metadata": {
        "id": "RFdOwRFjHvno",
        "colab_type": "code",
        "colab": {}
      },
      "source": [
        "x = np.arange(10)\n",
        "# x.add\n",
        "np.add\n",
        "np.add(7)\n",
        "# np.add.at(x, [3,5], 7)\n",
        "# x\n",
        "# np.put(x, [2,5], [100,200])\n",
        "# np.add.at?\n",
        "\n",
        "# # np.at?\n",
        "\n",
        "# N = 10\n",
        "# x = rng['jax'].normal(size=(N, N)).astype('float32')\n",
        "# # x\n",
        "# # jnp.put(x, [2,5], [100,200])\n",
        "# # x\n",
        "# jnp.add?\n",
        "# #.at(x, [2,5], [100,200])"
      ],
      "execution_count": null,
      "outputs": []
    },
    {
      "cell_type": "code",
      "metadata": {
        "id": "lapr96dX9pb1",
        "colab_type": "code",
        "colab": {}
      },
      "source": [
        "Ns = np.arange(1, 202, 50)\n",
        "nts = []\n",
        "jts = []\n",
        "for N in Ns:\n",
        "    print()\n",
        "    print(N)\n",
        "    print('numpy')\n",
        "    x = rng['np'] .normal(size=(N, N)).astype('float32')\n",
        "    np.dot(x, x.T)\n",
        "    nt = %timeit -o np.dot(x, x.T)\n",
        "    nts.append(np.mean(nt.all_runs))\n",
        "\n",
        "    print('Jax')\n",
        "    y = rng['jax'].normal(size=(N, N)).astype('float32')\n",
        "    jnp.dot(y, y.T).block_until_ready()\n",
        "    jt = %timeit -o jnp.dot(y, y.T).block_until_ready()\n",
        "    jts.append(np.mean(jt.all_runs))\n"
      ],
      "execution_count": null,
      "outputs": []
    },
    {
      "cell_type": "code",
      "metadata": {
        "id": "vJUljbbDBeQJ",
        "colab_type": "code",
        "colab": {}
      },
      "source": [
        "np.mean(nt.all_runs)"
      ],
      "execution_count": null,
      "outputs": []
    },
    {
      "cell_type": "code",
      "metadata": {
        "id": "kPJbuqXi4qEY",
        "colab_type": "code",
        "colab": {}
      },
      "source": [
        "import numpy as np\n",
        "# import jax.numpy as np\n",
        "x = np.arange(10)\n",
        "# x = x.at[1].set(5)\n",
        "# x\n",
        "\n",
        "type(x)\n",
        "\n",
        "class arr(np.ndarray):\n",
        "    def as\n",
        "\n",
        "# # A.hi()\n",
        "\n",
        "# def hi(self):\n",
        "#     print('hi')\n",
        "\n",
        "# # setattr(np.ndarray, \"hi\", hi)\n",
        "# # setattr(A, \"hi\", hi)\n",
        "# # A.hi()\n",
        "\n",
        "# def foo(self):\n",
        "#     print('hello world!')\n",
        "# setattr(A, 'foo', foo)\n",
        "# A.foo()"
      ],
      "execution_count": null,
      "outputs": []
    },
    {
      "cell_type": "code",
      "metadata": {
        "id": "xyzRHJAL7ldV",
        "colab_type": "code",
        "colab": {}
      },
      "source": [
        "import jax\n",
        "\n",
        "w = jax.numpy.ones(5)\n",
        "jax.numpy.lax_numpy._IndexUpdateHelper??"
      ],
      "execution_count": null,
      "outputs": []
    },
    {
      "cell_type": "code",
      "metadata": {
        "id": "6AuxrE7gcre9",
        "colab_type": "code",
        "colab": {}
      },
      "source": [
        "import jax\n",
        "import jax.numpy as np\n",
        "import numpy as np\n",
        "\n",
        "def extend_ONB(X):\n",
        "    X = np.asarray(X, dtype=float).copy()\n",
        "    sh = X.shape\n",
        "    # must be 2D\n",
        "    if len(sh) == 1:\n",
        "        X = X[:,np.newaxis]\n",
        "        sh = X.shape\n",
        "    elif len(sh) > 2:\n",
        "        raise Exception(f\"array made be 2D; given shape {sh}\")\n",
        "    \n",
        "    # make n_rows >= n_cols\n",
        "    if sh[0] < sh[1]:\n",
        "        X = X.T\n",
        "    dim, n = X.shape\n",
        "    # Extend to ONB using QR-factorization\n",
        "    Q, _ = np.linalg.qr(X, mode='complete')\n",
        "    # QR may flip signs on specified column vectors.  Check and flip back.\n",
        "    # For first n columns, multiply top row of X and Q, then multiply Q by resulting signs\n",
        "    # Q[:, :n] *= np.sign(X[0] * Q[0, :n])  \n",
        "    Q = put(Q, [slice(), slice(:n)] *= np.sign(X[0] * Q[0, :n])  \n",
        "    return Q\n",
        "\n",
        "def perturb(v):\n",
        "    import scipy.stats as stats\n",
        "    dim = len(v)\n",
        "    assert dim >= 2, \"len(v) must be >= 2\"\n",
        "\n",
        "    T = extend_ONB(v)\n",
        "\n",
        "    R1 = np.eye(dim)\n",
        "    theta = rng.uniform(low=tol, high=2*np.pi / 100)\n",
        "    c, s = np.cos(theta), np.sin(theta)\n",
        "    R1[:2, :2] = [[c, -s], [s,c]]\n",
        "\n",
        "    R2 = np.eye(dim)\n",
        "    if dim == 2:\n",
        "        R2[1, 1] = rng.choice([-1,1])\n",
        "    else:\n",
        "        R2[1:, 1:] = stats.special_ortho_group(dim-1).rvs()\n",
        "\n",
        "    A = T @ R2 @ R1 @ T.T\n",
        "    w = A @ v\n",
        "    return w\n",
        "\n",
        "rng = jax_RandomState(seed)\n",
        "\n",
        "dim = 2\n",
        "tol = 1e-4\n",
        "v = rng.uniform(size=dim)\n",
        "\n",
        "print(v.round(3))\n",
        "# %timeit w = perturb(v)\n",
        "\n",
        "l = []\n",
        "for i in range(25):\n",
        "    # print(i)\n",
        "    w = perturb(v)\n",
        "    c = v @ w / np.sqrt((v@v) * (w@w))\n",
        "    l.append(c)\n",
        "# w = perturb(v)\n",
        "# w = perturb(v)\n",
        "\n",
        "print(l)\n"
      ],
      "execution_count": null,
      "outputs": []
    },
    {
      "cell_type": "code",
      "metadata": {
        "id": "pMC9XEu_0j_b",
        "colab_type": "code",
        "colab": {}
      },
      "source": [
        "import jax\n",
        "jax.numpy.linalg.qr\n",
        "jax.numpy.asarray"
      ],
      "execution_count": null,
      "outputs": []
    },
    {
      "cell_type": "code",
      "metadata": {
        "id": "Mrz0wHLJc5Ph",
        "colab_type": "code",
        "colab": {}
      },
      "source": [
        "import numpy as np\n",
        "import jax\n",
        "dim = 3\n",
        "box_dims = np.arange(3) + 10.0\n",
        "box_dims\n",
        "\n",
        "\n",
        "class Particles():\n",
        "    def __init__(self, num=1, mass=1.0, radius=1.0):\n",
        "        self.num = num\n",
        "        mass = np.asarry(mass).ravel()\n",
        "        sh = len(mass)\n",
        "        M = mass[-1]\n",
        "        self.mass = jax.numpy.full([self.num], fill_value=M, dtype='float')\n",
        "        self.mass\n",
        "        self.radius = jax.numpy.broadcast_to(radius, [self.num])\n",
        "\n",
        "part = Particles(num=6, mass=[2.0, 3.0], radius=3.0)\n",
        "part.mass\n"
      ],
      "execution_count": null,
      "outputs": []
    },
    {
      "cell_type": "code",
      "metadata": {
        "id": "2V1-r49mzWyD",
        "colab_type": "code",
        "colab": {}
      },
      "source": [
        "w = np.array(5).ravel()\n",
        "\n",
        "w.shape"
      ],
      "execution_count": null,
      "outputs": []
    },
    {
      "cell_type": "code",
      "metadata": {
        "id": "yQQA_T7Tmi2Q",
        "colab_type": "code",
        "colab": {}
      },
      "source": [
        ""
      ],
      "execution_count": null,
      "outputs": []
    }
  ]
}