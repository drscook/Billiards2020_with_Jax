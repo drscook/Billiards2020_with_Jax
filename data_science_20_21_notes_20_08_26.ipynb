{
  "nbformat": 4,
  "nbformat_minor": 0,
  "metadata": {
    "colab": {
      "name": "data-science-20-21-notes-20-08-26.ipynb",
      "provenance": [],
      "collapsed_sections": [
        "s3k145cBd4KG"
      ],
      "include_colab_link": true
    },
    "kernelspec": {
      "name": "python3",
      "display_name": "Python 3"
    }
  },
  "cells": [
    {
      "cell_type": "markdown",
      "metadata": {
        "id": "view-in-github",
        "colab_type": "text"
      },
      "source": [
        "<a href=\"https://colab.research.google.com/github/drscook/Billiards2020_with_Jax/blob/master/data_science_20_21_notes_20_08_26.ipynb\" target=\"_parent\"><img src=\"https://colab.research.google.com/assets/colab-badge.svg\" alt=\"Open In Colab\"/></a>"
      ]
    },
    {
      "cell_type": "markdown",
      "metadata": {
        "id": "s3k145cBd4KG",
        "colab_type": "text"
      },
      "source": [
        "#  Intro to Linear Algebra\n",
        "## Class Notes 2020-08-26\n",
        "## Data Science (masters)\n",
        "## Math 5364 & 5366, Fall 20 & Spring 21\n",
        "## Tarleton State University\n",
        "## Dr. Scott Cook"
      ]
    },
    {
      "cell_type": "markdown",
      "metadata": {
        "id": "3ObfzbS3lfbu",
        "colab_type": "text"
      },
      "source": [
        "# Goal\n",
        "Understand Principal Components Analysis\n",
        "\n",
        "### Summary\n",
        "*Dimensionality reduction* is an attempt to reduce the number of features of a dataset while losing as little information as possible."
      ]
    },
    {
      "cell_type": "markdown",
      "metadata": {
        "id": "cjP6CUd40yyh",
        "colab_type": "text"
      },
      "source": [
        "## Example"
      ]
    },
    {
      "cell_type": "code",
      "metadata": {
        "id": "iazALnSamKow",
        "colab_type": "code",
        "colab": {
          "base_uri": "https://localhost:8080/",
          "height": 677
        },
        "outputId": "1f9f1807-c3e5-41b6-970f-e081342466e8"
      },
      "source": [
        "import numpy as np\n",
        "import pandas as pd\n",
        "\n",
        "n = 20\n",
        "seed = 42\n",
        "rng = np.random.default_rng(seed)\n",
        "df = pd.DataFrame()\n",
        "df['x'] = (rng.random(n)*2)-1\n",
        "noise = rng.normal(size=20) / 20\n",
        "df['y'] =  (df['x'] + noise) / 2\n",
        "lim = np.array([df.min(axis=0), df.max(axis=0)]).T\n",
        "# lim = [(-1,1), (-0.5,0.5)]\n",
        "display(df)"
      ],
      "execution_count": null,
      "outputs": [
        {
          "output_type": "display_data",
          "data": {
            "text/html": [
              "<div>\n",
              "<style scoped>\n",
              "    .dataframe tbody tr th:only-of-type {\n",
              "        vertical-align: middle;\n",
              "    }\n",
              "\n",
              "    .dataframe tbody tr th {\n",
              "        vertical-align: top;\n",
              "    }\n",
              "\n",
              "    .dataframe thead th {\n",
              "        text-align: right;\n",
              "    }\n",
              "</style>\n",
              "<table border=\"1\" class=\"dataframe\">\n",
              "  <thead>\n",
              "    <tr style=\"text-align: right;\">\n",
              "      <th></th>\n",
              "      <th>x</th>\n",
              "      <th>y</th>\n",
              "    </tr>\n",
              "  </thead>\n",
              "  <tbody>\n",
              "    <tr>\n",
              "      <th>0</th>\n",
              "      <td>0.547912</td>\n",
              "      <td>0.269334</td>\n",
              "    </tr>\n",
              "    <tr>\n",
              "      <th>1</th>\n",
              "      <td>-0.122243</td>\n",
              "      <td>-0.078145</td>\n",
              "    </tr>\n",
              "    <tr>\n",
              "      <th>2</th>\n",
              "      <td>0.717196</td>\n",
              "      <td>0.389161</td>\n",
              "    </tr>\n",
              "    <tr>\n",
              "      <th>3</th>\n",
              "      <td>0.394736</td>\n",
              "      <td>0.193505</td>\n",
              "    </tr>\n",
              "    <tr>\n",
              "      <th>4</th>\n",
              "      <td>-0.811645</td>\n",
              "      <td>-0.416531</td>\n",
              "    </tr>\n",
              "    <tr>\n",
              "      <th>5</th>\n",
              "      <td>0.951245</td>\n",
              "      <td>0.466819</td>\n",
              "    </tr>\n",
              "    <tr>\n",
              "      <th>6</th>\n",
              "      <td>0.522279</td>\n",
              "      <td>0.274447</td>\n",
              "    </tr>\n",
              "    <tr>\n",
              "      <th>7</th>\n",
              "      <td>0.572129</td>\n",
              "      <td>0.295200</td>\n",
              "    </tr>\n",
              "    <tr>\n",
              "      <th>8</th>\n",
              "      <td>-0.743773</td>\n",
              "      <td>-0.361568</td>\n",
              "    </tr>\n",
              "    <tr>\n",
              "      <th>9</th>\n",
              "      <td>-0.099228</td>\n",
              "      <td>-0.038844</td>\n",
              "    </tr>\n",
              "    <tr>\n",
              "      <th>10</th>\n",
              "      <td>-0.258404</td>\n",
              "      <td>-0.075661</td>\n",
              "    </tr>\n",
              "    <tr>\n",
              "      <th>11</th>\n",
              "      <td>0.853530</td>\n",
              "      <td>0.416605</td>\n",
              "    </tr>\n",
              "    <tr>\n",
              "      <th>12</th>\n",
              "      <td>0.287730</td>\n",
              "      <td>0.131059</td>\n",
              "    </tr>\n",
              "    <tr>\n",
              "      <th>13</th>\n",
              "      <td>0.645523</td>\n",
              "      <td>0.302417</td>\n",
              "    </tr>\n",
              "    <tr>\n",
              "      <th>14</th>\n",
              "      <td>-0.113172</td>\n",
              "      <td>-0.041186</td>\n",
              "    </tr>\n",
              "    <tr>\n",
              "      <th>15</th>\n",
              "      <td>-0.545523</td>\n",
              "      <td>-0.244537</td>\n",
              "    </tr>\n",
              "    <tr>\n",
              "      <th>16</th>\n",
              "      <td>0.109170</td>\n",
              "      <td>0.051736</td>\n",
              "    </tr>\n",
              "    <tr>\n",
              "      <th>17</th>\n",
              "      <td>-0.872365</td>\n",
              "      <td>-0.457187</td>\n",
              "    </tr>\n",
              "    <tr>\n",
              "      <th>18</th>\n",
              "      <td>0.655262</td>\n",
              "      <td>0.307019</td>\n",
              "    </tr>\n",
              "    <tr>\n",
              "      <th>19</th>\n",
              "      <td>0.263329</td>\n",
              "      <td>0.147929</td>\n",
              "    </tr>\n",
              "  </tbody>\n",
              "</table>\n",
              "</div>"
            ],
            "text/plain": [
              "           x         y\n",
              "0   0.547912  0.269334\n",
              "1  -0.122243 -0.078145\n",
              "2   0.717196  0.389161\n",
              "3   0.394736  0.193505\n",
              "4  -0.811645 -0.416531\n",
              "5   0.951245  0.466819\n",
              "6   0.522279  0.274447\n",
              "7   0.572129  0.295200\n",
              "8  -0.743773 -0.361568\n",
              "9  -0.099228 -0.038844\n",
              "10 -0.258404 -0.075661\n",
              "11  0.853530  0.416605\n",
              "12  0.287730  0.131059\n",
              "13  0.645523  0.302417\n",
              "14 -0.113172 -0.041186\n",
              "15 -0.545523 -0.244537\n",
              "16  0.109170  0.051736\n",
              "17 -0.872365 -0.457187\n",
              "18  0.655262  0.307019\n",
              "19  0.263329  0.147929"
            ]
          },
          "metadata": {
            "tags": []
          }
        }
      ]
    },
    {
      "cell_type": "code",
      "metadata": {
        "id": "SSMQX6zanJJt",
        "colab_type": "code",
        "colab": {
          "base_uri": "https://localhost:8080/",
          "height": 232
        },
        "outputId": "443b1a32-7851-4fd1-bd22-51275a0c8fe8"
      },
      "source": [
        "import matplotlib.pyplot as plt\n",
        "def make_fig(df):\n",
        "    fig, ax = plt.subplots()\n",
        "    ax.set_aspect('equal')\n",
        "    ax.set_xlim(lim[0])\n",
        "    ax.set_ylim(lim[1])\n",
        "    x, y = df.columns[:2]\n",
        "    ax.plot(df[x], df[y], '.');    \n",
        "    ax.set_xlabel(x)\n",
        "    ax.set_ylabel(y)\n",
        "    return fig, ax\n",
        "\n",
        "fig, ax = make_fig(df)"
      ],
      "execution_count": null,
      "outputs": [
        {
          "output_type": "display_data",
          "data": {
            "image/png": "[encoded data removed]",
            "text/plain": [
              "<Figure size 432x288 with 1 Axes>"
            ]
          },
          "metadata": {
            "tags": [],
            "needs_background": "light"
          }
        }
      ]
    },
    {
      "cell_type": "markdown",
      "metadata": {
        "id": "wLlTMSEMbB5W",
        "colab_type": "text"
      },
      "source": [
        "This data is 2-dimension (2 columns), but clearly this data lies almost entirely in a 1-dimensional subspace.  With a little work, we can replace the 2-column dataset by a 1-column dataset that is essentially equivalent.\n",
        "\n",
        "This process is called Principal Components Analysis.  It searches for a \"change of coordiates\" that is aligned to the data, as depicted below."
      ]
    },
    {
      "cell_type": "code",
      "metadata": {
        "id": "3VSLE1K6E8jq",
        "colab_type": "code",
        "colab": {
          "base_uri": "https://localhost:8080/",
          "height": 252
        },
        "outputId": "ee5ac40f-db72-4f87-892f-75880aaea826"
      },
      "source": [
        "standard_basis = [[1, 0],\n",
        "                  [0, 1]]\n",
        "\n",
        "new_basis = [[1, 0.5],\n",
        "             [-0.5, 1]]\n",
        "\n",
        "def plot_basis(basis, clr='black', mark=\"'\"):\n",
        "    d = {'arrowprops':dict(arrowstyle=\"<-\",color=clr), 'color':clr, 'fontsize':30, 'ha':'center', 'va':'center'}\n",
        "    # rescale basis to fit fig nicely\n",
        "    b = np.array(basis)\n",
        "    b = b / np.linalg.norm(b, axis=1, keepdims=True) * 0.5\n",
        "    ax.annotate(f\"x{mark}\", xy=(0, 0), xytext=b[0], **d)\n",
        "    ax.annotate(f\"y{mark}\", xy=(0, 0), xytext=b[1], **d)\n",
        "    ax.set_aspect('equal')\n",
        "\n",
        "fig, ax = make_fig(df)\n",
        "plot_basis(standard_basis, clr='black' , mark=\"\")\n",
        "plot_basis(new_basis, clr='red')"
      ],
      "execution_count": null,
      "outputs": [
        {
          "output_type": "display_data",
          "data": {
            "image/png": "[encoded data removed]",
            "text/plain": [
              "<Figure size 432x288 with 1 Axes>"
            ]
          },
          "metadata": {
            "tags": [],
            "needs_background": "light"
          }
        }
      ]
    },
    {
      "cell_type": "markdown",
      "metadata": {
        "id": "dXwvbQvGcEiW",
        "colab_type": "text"
      },
      "source": [
        "Observe that the red \"new_basis\" came out of thin air.  Our questions are\n",
        "1. Where did new_basis come from?\n",
        "1. How do we generalize this process to high-dimensional spaces that we can't visualize as easily.\n",
        "\n",
        "A \"black-box\" answer to both question is [scikit-learn](https://scikit-learn.org/stable/index.html)."
      ]
    },
    {
      "cell_type": "code",
      "metadata": {
        "id": "0eD9EJ4JOlIU",
        "colab_type": "code",
        "colab": {
          "base_uri": "https://localhost:8080/",
          "height": 243
        },
        "outputId": "cf5116f8-cc18-47f0-f98e-47c7cddd5d66"
      },
      "source": [
        "from sklearn.decomposition import PCA\n",
        "pca = PCA(n_components=2).fit(df)\n",
        "pca_basis = pca.components_.T\n",
        "\n",
        "fig, ax = make_fig(df)\n",
        "plot_basis(pca_basis, clr='red')"
      ],
      "execution_count": null,
      "outputs": [
        {
          "output_type": "display_data",
          "data": {
            "image/png": "[encoded data removed]",
            "text/plain": [
              "<Figure size 432x288 with 1 Axes>"
            ]
          },
          "metadata": {
            "tags": [],
            "needs_background": "light"
          }
        }
      ]
    },
    {
      "cell_type": "markdown",
      "metadata": {
        "id": "64sGeuZSC2UC",
        "colab_type": "text"
      },
      "source": [
        "But, we won't settle for black boxes.  Let's learn about [PCA](https://en.wikipedia.org/wiki/Principal_component_analysis).\n",
        "\n",
        "I wrote a function named \"my_PCA\" that implements the PCA derivation [here](https://en.wikipedia.org/wiki/Principal_component_analysis#Computing_PCA_using_the_covariance_method)\n",
        "- input = dataframe\n",
        "- output = dictionary containing:\n",
        "    - u, B, C, V, D (defined at link above)\n",
        "    - df: the PCA transformed dataset B@V\n",
        "\n",
        "The last line of the cell below imports my_PCA from a file you DON'T have.  Your second homework assignment is to write your own my_PCA."
      ]
    },
    {
      "cell_type": "code",
      "metadata": {
        "id": "GJuFlYrDBjq0",
        "colab_type": "code",
        "colab": {
          "base_uri": "https://localhost:8080/",
          "height": 147
        },
        "outputId": "1ecc1057-e56f-4283-e677-9e3022d559cc"
      },
      "source": [
        "preferred_path = f\"My Drive/active/m53646-data-science-20-21/notes\"   # your preferred google drive path\n",
        "import os\n",
        "import google.colab\n",
        "root_path = \"/content/drive/\"\n",
        "google.colab.drive.mount(root_path)\n",
        "your_path = os.path.join(root_path, preferred_path)  # path to folder for your local\n",
        "%cd \"{your_path}\"\n",
        "%run -i data-science-20-21-notes-20-08-26-helper.ipynb"
      ],
      "execution_count": null,
      "outputs": [
        {
          "output_type": "stream",
          "text": [
            "Go to this URL in a browser: https://accounts.google.com/o/oauth2/auth?client_id=947318989803-6bn6qk8qdgf4n4g3pfee6491hc0brc4i.apps.googleusercontent.com&redirect_uri=urn%3aietf%3awg%3aoauth%3a2.0%3aoob&scope=email%20https%3a%2f%2fwww.googleapis.com%2fauth%2fdocs.test%20https%3a%2f%2fwww.googleapis.com%2fauth%2fdrive%20https%3a%2f%2fwww.googleapis.com%2fauth%2fdrive.photos.readonly%20https%3a%2f%2fwww.googleapis.com%2fauth%2fpeopleapi.readonly&response_type=code\n",
            "\n",
            "Enter your authorization code:\n",
            "··········\n",
            "Mounted at /content/drive/\n",
            "/content/drive/My Drive/active/m53646-data-science-20-21/notes\n"
          ],
          "name": "stdout"
        }
      ]
    },
    {
      "cell_type": "code",
      "metadata": {
        "id": "Scs5hjWtpZle",
        "colab_type": "code",
        "colab": {
          "base_uri": "https://localhost:8080/",
          "height": 1000
        },
        "outputId": "2d95262b-32de-4a4d-bdc9-28e57a38793e"
      },
      "source": [
        "pca = my_PCA(df)\n",
        "V, D = pca['V'], pca['D']\n",
        "ebasis = V.T\n",
        "fig, ax = make_fig(df)\n",
        "plot_basis(ebasis, clr='red')\n",
        "\n",
        "fig, ax = make_fig(pca['df'])\n",
        "plot_basis(standard_basis, clr='red')\n",
        "plt.show()\n",
        "\n",
        "print(f\"The matrices below should be the same.  The first one, C, is the covariance matrix; the second is C's eigen-decomposition VDV^-1\")\n",
        "P = V @ D @ np.linalg.inv(V)\n",
        "print(pca['C'])\n",
        "print()\n",
        "print(P)\n",
        "\n",
        "display(pca['df'])"
      ],
      "execution_count": null,
      "outputs": [
        {
          "output_type": "display_data",
          "data": {
            "image/png": "[encoded data removed]",
            "text/plain": [
              "<Figure size 432x288 with 1 Axes>"
            ]
          },
          "metadata": {
            "tags": [],
            "needs_background": "light"
          }
        },
        {
          "output_type": "display_data",
          "data": {
            "image/png": "[encoded data removed]",
            "text/plain": [
              "<Figure size 432x288 with 1 Axes>"
            ]
          },
          "metadata": {
            "tags": [],
            "needs_background": "light"
          }
        },
        {
          "output_type": "stream",
          "text": [
            "The matrices below should be the same.  The first one, C, is the covariance matrix; the second is C's eigen-decomposition VDV^-1\n",
            "          x         y\n",
            "x  0.323828  0.160227\n",
            "y  0.160227  0.079665\n",
            "\n",
            "[[0.32382828 0.16022658]\n",
            " [0.16022658 0.07966456]]\n"
          ],
          "name": "stdout"
        },
        {
          "output_type": "display_data",
          "data": {
            "text/html": [
              "<div>\n",
              "<style scoped>\n",
              "    .dataframe tbody tr th:only-of-type {\n",
              "        vertical-align: middle;\n",
              "    }\n",
              "\n",
              "    .dataframe tbody tr th {\n",
              "        vertical-align: top;\n",
              "    }\n",
              "\n",
              "    .dataframe thead th {\n",
              "        text-align: right;\n",
              "    }\n",
              "</style>\n",
              "<table border=\"1\" class=\"dataframe\">\n",
              "  <thead>\n",
              "    <tr style=\"text-align: right;\">\n",
              "      <th></th>\n",
              "      <th>x'</th>\n",
              "      <th>y'</th>\n",
              "    </tr>\n",
              "  </thead>\n",
              "  <tbody>\n",
              "    <tr>\n",
              "      <th>0</th>\n",
              "      <td>0.444199</td>\n",
              "      <td>-0.004895</td>\n",
              "    </tr>\n",
              "    <tr>\n",
              "      <th>1</th>\n",
              "      <td>-0.310556</td>\n",
              "      <td>-0.018853</td>\n",
              "    </tr>\n",
              "    <tr>\n",
              "      <th>2</th>\n",
              "      <td>0.649079</td>\n",
              "      <td>0.027354</td>\n",
              "    </tr>\n",
              "    <tr>\n",
              "      <th>3</th>\n",
              "      <td>0.273281</td>\n",
              "      <td>-0.004866</td>\n",
              "    </tr>\n",
              "    <tr>\n",
              "      <th>4</th>\n",
              "      <td>-1.078522</td>\n",
              "      <td>-0.016120</td>\n",
              "    </tr>\n",
              "    <tr>\n",
              "      <th>5</th>\n",
              "      <td>0.893280</td>\n",
              "      <td>-0.006930</td>\n",
              "    </tr>\n",
              "    <tr>\n",
              "      <th>6</th>\n",
              "      <td>0.423499</td>\n",
              "      <td>0.011063</td>\n",
              "    </tr>\n",
              "    <tr>\n",
              "      <th>7</th>\n",
              "      <td>0.477380</td>\n",
              "      <td>0.007536</td>\n",
              "    </tr>\n",
              "    <tr>\n",
              "      <th>8</th>\n",
              "      <td>-0.993307</td>\n",
              "      <td>0.003010</td>\n",
              "    </tr>\n",
              "    <tr>\n",
              "      <th>9</th>\n",
              "      <td>-0.272489</td>\n",
              "      <td>0.006151</td>\n",
              "    </tr>\n",
              "    <tr>\n",
              "      <th>10</th>\n",
              "      <td>-0.431469</td>\n",
              "      <td>0.043803</td>\n",
              "    </tr>\n",
              "    <tr>\n",
              "      <th>11</th>\n",
              "      <td>0.783430</td>\n",
              "      <td>-0.008561</td>\n",
              "    </tr>\n",
              "    <tr>\n",
              "      <th>12</th>\n",
              "      <td>0.149677</td>\n",
              "      <td>-0.013334</td>\n",
              "    </tr>\n",
              "    <tr>\n",
              "      <th>13</th>\n",
              "      <td>0.546353</td>\n",
              "      <td>-0.018570</td>\n",
              "    </tr>\n",
              "    <tr>\n",
              "      <th>14</th>\n",
              "      <td>-0.286024</td>\n",
              "      <td>0.010240</td>\n",
              "    </tr>\n",
              "    <tr>\n",
              "      <th>15</th>\n",
              "      <td>-0.763712</td>\n",
              "      <td>0.019898</td>\n",
              "    </tr>\n",
              "    <tr>\n",
              "      <th>16</th>\n",
              "      <td>-0.045539</td>\n",
              "      <td>-0.005169</td>\n",
              "    </tr>\n",
              "    <tr>\n",
              "      <th>17</th>\n",
              "      <td>-1.150979</td>\n",
              "      <td>-0.025604</td>\n",
              "    </tr>\n",
              "    <tr>\n",
              "      <th>18</th>\n",
              "      <td>0.557123</td>\n",
              "      <td>-0.018769</td>\n",
              "    </tr>\n",
              "    <tr>\n",
              "      <th>19</th>\n",
              "      <td>0.135297</td>\n",
              "      <td>0.012614</td>\n",
              "    </tr>\n",
              "  </tbody>\n",
              "</table>\n",
              "</div>"
            ],
            "text/plain": [
              "          x'        y'\n",
              "0   0.444199 -0.004895\n",
              "1  -0.310556 -0.018853\n",
              "2   0.649079  0.027354\n",
              "3   0.273281 -0.004866\n",
              "4  -1.078522 -0.016120\n",
              "5   0.893280 -0.006930\n",
              "6   0.423499  0.011063\n",
              "7   0.477380  0.007536\n",
              "8  -0.993307  0.003010\n",
              "9  -0.272489  0.006151\n",
              "10 -0.431469  0.043803\n",
              "11  0.783430 -0.008561\n",
              "12  0.149677 -0.013334\n",
              "13  0.546353 -0.018570\n",
              "14 -0.286024  0.010240\n",
              "15 -0.763712  0.019898\n",
              "16 -0.045539 -0.005169\n",
              "17 -1.150979 -0.025604\n",
              "18  0.557123 -0.018769\n",
              "19  0.135297  0.012614"
            ]
          },
          "metadata": {
            "tags": []
          }
        }
      ]
    },
    {
      "cell_type": "code",
      "metadata": {
        "id": "bxubojTtMDfj",
        "colab_type": "code",
        "colab": {
          "base_uri": "https://localhost:8080/",
          "height": 54
        },
        "outputId": "829bbba3-c553-4757-aed9-5631476b31fc"
      },
      "source": [
        "explained_variance = D.diagonal()\n",
        "explained_variance_cumumlative = explained_variance.cumsum()\n",
        "variance_total = explained_variance_cumumlative[-1]\n",
        "explained_variance_ratio = explained_variance / variance_total\n",
        "explained_variance_ratio_cumulative = explained_variance_ratio.cumsum()\n",
        "print(explained_variance_ratio_cumulative)\n",
        "\n",
        "## Here's a shorter version\n",
        "explained_variance = D.diagonal()\n",
        "explained_variance_ratio_cumulative = explained_variance.cumsum() / explained_variance.sum()\n",
        "print(explained_variance_ratio_cumulative)"
      ],
      "execution_count": null,
      "outputs": [
        {
          "output_type": "stream",
          "text": [
            "[0.99923114 1.        ]\n",
            "[0.99923114 1.        ]\n"
          ],
          "name": "stdout"
        }
      ]
    },
    {
      "cell_type": "code",
      "metadata": {
        "id": "Gpm_dRX9htw3",
        "colab_type": "code",
        "colab": {
          "base_uri": "https://localhost:8080/",
          "height": 677
        },
        "outputId": "9e648a2c-5e20-4112-bf76-d66a03cfde71"
      },
      "source": [
        "reduced_dim = 1\n",
        "df_reduced = pca['df'].iloc[:,:reduced_dim]\n",
        "df_reduced"
      ],
      "execution_count": null,
      "outputs": [
        {
          "output_type": "execute_result",
          "data": {
            "text/html": [
              "<div>\n",
              "<style scoped>\n",
              "    .dataframe tbody tr th:only-of-type {\n",
              "        vertical-align: middle;\n",
              "    }\n",
              "\n",
              "    .dataframe tbody tr th {\n",
              "        vertical-align: top;\n",
              "    }\n",
              "\n",
              "    .dataframe thead th {\n",
              "        text-align: right;\n",
              "    }\n",
              "</style>\n",
              "<table border=\"1\" class=\"dataframe\">\n",
              "  <thead>\n",
              "    <tr style=\"text-align: right;\">\n",
              "      <th></th>\n",
              "      <th>x'</th>\n",
              "    </tr>\n",
              "  </thead>\n",
              "  <tbody>\n",
              "    <tr>\n",
              "      <th>0</th>\n",
              "      <td>0.444199</td>\n",
              "    </tr>\n",
              "    <tr>\n",
              "      <th>1</th>\n",
              "      <td>-0.310556</td>\n",
              "    </tr>\n",
              "    <tr>\n",
              "      <th>2</th>\n",
              "      <td>0.649079</td>\n",
              "    </tr>\n",
              "    <tr>\n",
              "      <th>3</th>\n",
              "      <td>0.273281</td>\n",
              "    </tr>\n",
              "    <tr>\n",
              "      <th>4</th>\n",
              "      <td>-1.078522</td>\n",
              "    </tr>\n",
              "    <tr>\n",
              "      <th>5</th>\n",
              "      <td>0.893280</td>\n",
              "    </tr>\n",
              "    <tr>\n",
              "      <th>6</th>\n",
              "      <td>0.423499</td>\n",
              "    </tr>\n",
              "    <tr>\n",
              "      <th>7</th>\n",
              "      <td>0.477380</td>\n",
              "    </tr>\n",
              "    <tr>\n",
              "      <th>8</th>\n",
              "      <td>-0.993307</td>\n",
              "    </tr>\n",
              "    <tr>\n",
              "      <th>9</th>\n",
              "      <td>-0.272489</td>\n",
              "    </tr>\n",
              "    <tr>\n",
              "      <th>10</th>\n",
              "      <td>-0.431469</td>\n",
              "    </tr>\n",
              "    <tr>\n",
              "      <th>11</th>\n",
              "      <td>0.783430</td>\n",
              "    </tr>\n",
              "    <tr>\n",
              "      <th>12</th>\n",
              "      <td>0.149677</td>\n",
              "    </tr>\n",
              "    <tr>\n",
              "      <th>13</th>\n",
              "      <td>0.546353</td>\n",
              "    </tr>\n",
              "    <tr>\n",
              "      <th>14</th>\n",
              "      <td>-0.286024</td>\n",
              "    </tr>\n",
              "    <tr>\n",
              "      <th>15</th>\n",
              "      <td>-0.763712</td>\n",
              "    </tr>\n",
              "    <tr>\n",
              "      <th>16</th>\n",
              "      <td>-0.045539</td>\n",
              "    </tr>\n",
              "    <tr>\n",
              "      <th>17</th>\n",
              "      <td>-1.150979</td>\n",
              "    </tr>\n",
              "    <tr>\n",
              "      <th>18</th>\n",
              "      <td>0.557123</td>\n",
              "    </tr>\n",
              "    <tr>\n",
              "      <th>19</th>\n",
              "      <td>0.135297</td>\n",
              "    </tr>\n",
              "  </tbody>\n",
              "</table>\n",
              "</div>"
            ],
            "text/plain": [
              "          x'\n",
              "0   0.444199\n",
              "1  -0.310556\n",
              "2   0.649079\n",
              "3   0.273281\n",
              "4  -1.078522\n",
              "5   0.893280\n",
              "6   0.423499\n",
              "7   0.477380\n",
              "8  -0.993307\n",
              "9  -0.272489\n",
              "10 -0.431469\n",
              "11  0.783430\n",
              "12  0.149677\n",
              "13  0.546353\n",
              "14 -0.286024\n",
              "15 -0.763712\n",
              "16 -0.045539\n",
              "17 -1.150979\n",
              "18  0.557123\n",
              "19  0.135297"
            ]
          },
          "metadata": {
            "tags": []
          },
          "execution_count": 16
        }
      ]
    },
    {
      "cell_type": "markdown",
      "metadata": {
        "id": "qqx_dnbG0p6C",
        "colab_type": "text"
      },
      "source": [
        "# Intro to Linear Algebra"
      ]
    },
    {
      "cell_type": "markdown",
      "metadata": {
        "id": "7FC44Vb1ieCl",
        "colab_type": "text"
      },
      "source": [
        "\n",
        "## Intro to Complex numbers"
      ]
    },
    {
      "cell_type": "markdown",
      "metadata": {
        "id": "1sZWZ5GEiiK3",
        "colab_type": "text"
      },
      "source": [
        "- def: $i = \\sqrt{-1}$\n",
        "- def: a *complex number* has the form $z=x+iy$ where $x$ and $y$ are real numbers.\n",
        "- def: The *conjugate* of a complex number $z=x+iy$ is $\\bar{z}=x-iy$.  The *conjugate* of a matrix is the conjugate of all the entries.\n",
        "- def: The *modulus (or absolute value or magnitude* of a complex numbers $z=x+iy$ is $|z| = \\sqrt{z\\bar{z}}=\\sqrt{x^2+y^2}$\n"
      ]
    },
    {
      "cell_type": "markdown",
      "metadata": {
        "id": "VYFOrVT5xmJv",
        "colab_type": "text"
      },
      "source": [
        "## Basic Linear Algebra Definitions"
      ]
    },
    {
      "cell_type": "markdown",
      "metadata": {
        "id": "TpdL_IbX0ouy",
        "colab_type": "text"
      },
      "source": [
        "The term *vector space* is defined by a bunch of axioms listed [here](https://en.wikipedia.org/wiki/Vector_space#Definition).\n",
        "Notation:\n",
        "- Let $V$ denote a vector space over a field $F$\n",
        "- Things with arrows like $\\vec{v}$ are vectors (elements of $V$)\n",
        "- Things without arrows like $k$ are scalares (elements of $F$)\n",
        "- def: A *subspace* of $V$ is a subset that is:\n",
        "    1. $\\vec{v}, \\vec{w} \\in V \\implies  \\vec{v}+\\vec{w} \\in V$ (*closure under addition*)\n",
        "    1. $\\vec{v} \\in V, k \\in F \\implies  k\\vec{v} \\in V$ (*closure under scalar multiplication*)\n",
        "    - It follows immediately that $\\vec{0}$ is in every subspace.\n",
        "- def: A *linear combination* of vectors $\\vec{v}_1, \\vec{v}_2, \\dots, \\vec{v}_p$ is a vector $k_1\\vec{v}_1 + k_2\\vec{v}_2 + \\dots + k_p \\vec{v}_p$ for some choice of scalars $k_1, k_2, \\dots, k_p$ (often called *weights*).\n",
        "- def: A *linear relation* among vectors $\\vec{v}_1, \\vec{v}_2, \\dots, \\vec{v}_p$ is a choice of scalars $k_1, k_2, \\dots, k_p$ that satifies the equations $\\vec{0}=k_1\\vec{v}_1 + k_2\\vec{v}_2 + \\dots + k_p \\vec{v}_p$\n",
        "    - In other words, its a linear combinations that produces the zero vector\n",
        "    - Note that $k_1, k_2, \\dots, k_p = 0$ is always a linear relations, called the *trivial linear relation*\n",
        "- def: A set of vectors $\\vec{v}_1, \\vec{v}_2, \\dots, \\vec{v}_p$ is *linearly dependent* if there exists any non-trivial linear relation among them other.  Otherwise, they are *linearly independent*.\n",
        "    - In other words, they are linearly independent if the ONLY linear relation is the trivial one.\n",
        "- def: A set of vectors $\\vec{v}_1, \\vec{v}_2, \\dots, \\vec{v}_p$ *spans* $V$ if any $\\vec{x} \\in V$ can be expressed as a linear combination of them.\n",
        "    - In other word, there is a choice of scalars $k_1, k_2, \\dots, k_p$ that satifies the equations $\\vec{x} = k_1\\vec{v}_1 + k_2\\vec{v}_2 + \\dots + k_p \\vec{v}_p$.\n",
        "- def: A set of vectors $\\vec{v}_1, \\vec{v}_2, \\dots, \\vec{v}_p$ forms a *basis* for $V$ if they BOTH span $V$ AND are linearly independent.\n",
        "- Theorem (unique representation): $\\mathcal{B}=\\{\\vec{v}_1, \\vec{v}_2, \\dots, \\vec{v}_p\\}$ forms a *basis* for $V$ if and only if every $\\vec{x} \\in V$ can be expressed in ONE AND ONLY ONE way as a linear combination of them.\n",
        "    - def: The *coordinate vector of $\\vec{x}$ wrt $\\mathcal{B}$* is the unique vector of weights $[\\vec{x}]_\\mathcal{B} = [k_1, k_2, \\dots, k_p]$  such that $\\vec{x} = k_1\\vec{v}_1 + k_2\\vec{v}_2 + \\dots + k_p \\vec{v}_p$.\n",
        "- Every vector space has MANY possible bases.\n",
        "- Theorem: EVERY basis of $V$ contains the SAME number of vectors.\n",
        "    - Two bases of $V$ have contain different vectors, but they both contain the SAME NUMBER of vectors.\n",
        "- def: The *dimension* of $V$ is the number of vectors in ANY basis of it.\n",
        "- Much of linear algebra is a search for a \"nice\" basis that serves a specific purpose.\n"
      ]
    },
    {
      "cell_type": "markdown",
      "metadata": {
        "id": "73G-09kyxjNz",
        "colab_type": "text"
      },
      "source": [
        "## Linear Transformations"
      ]
    },
    {
      "cell_type": "markdown",
      "metadata": {
        "id": "RcGDCiT78cYz",
        "colab_type": "text"
      },
      "source": [
        "Now, let $W$ denote another vector space over the same field $F$\n",
        "- def: A *linear transformation* $T:V \\to W$ is a function such that for all $\\vec{v}_1, \\vec{v}_2 \\in V$ and $k \\in F$\n",
        "    1. $T(\\vec{v}_1 + \\vec{v}_2) = T(\\vec{v}_1) + T(\\vec{v}_1)$ (*additivity*)\n",
        "    1. $T(k\\vec{v}) = kT(\\vec{v})$ (*homogeneity*)\n",
        "- def: An *operator* on $V$ is a linear transformation from $V$ to itself $T:V \\to V$.\n",
        "    - $W$ = $V$\n",
        "- def: $\\vec{v} \\in V$ is an *eigenvector* with *eigenvalue* $\\lambda \\in F$ for an operator $T$ if:\n",
        "    1. $\\vec{v} \\neq \\vec{0}$\n",
        "    1. $T(\\vec{v}) = \\lambda \\vec{v}$\n",
        "    - In other words, $T$ merely stretches/shrinks and (possibly) flips $\\vec{v}$, but does not rotate it.\n",
        "    - \"eigen\" is a German word meaning \"own\"\n",
        "    - eigenvectors are critical to understanding long-term behavior of repeatedly applying $T$ (commonly done in dynamical systems and Markov processes).\n",
        "- Each eigenvector has exactly one eigenvalue (many vectors are NOT eigenvectors).\n",
        "- Each eigenvalue has MANY eigenvectors (many scalars are NOT eigenvalues).\n",
        "- Theorem: The set of all eigenvectors for an eigenvalue is a subspace of $V$.  Proof: Let\n",
        "    - $\\lambda$ be an eigenvalue of $T$\n",
        "    - $\\vec{v}, \\vec{w}$ be eigenvalues for $\\lambda$ (thus $T(\\vec{v})=\\lambda \\vec{v}$ and $T(\\vec{w})=\\lambda \\vec{w})$\n",
        "    - $k \\in F$\n",
        "    - confirm the 2 properties defining subspace above:\n",
        "    1. $T(\\vec{v}+\\vec{w}) = T(\\vec{v})+T(\\vec{w})=\\lambda \\vec{v} + \\lambda \\vec{w} = \\lambda (\\vec{v} + \\vec{w})$.  Thus $(\\vec{v} + \\vec{w})$ is also an eigenvalue for $\\lambda$, showing closure under addition.\n",
        "    1. $T(k\\vec{v}) = kT(\\vec{v})=k\\lambda \\vec{v}= \\lambda (k\\vec{v})$.  Thus $k\\vec{v}$ is also an eigenvalue for $\\lambda$, showing closure under scalar multiplication.\n",
        "- def: An *eigenbasis* of an $T:V \\to V$ is a basis for $V$ comprised entirely of eigenvectors of $T$.\n"
      ]
    },
    {
      "cell_type": "markdown",
      "metadata": {
        "id": "yhavZ-9Nx2rI",
        "colab_type": "text"
      },
      "source": [
        "## Finite vs Infinite Dimensional Vector Spaces"
      ]
    },
    {
      "cell_type": "markdown",
      "metadata": {
        "id": "Z_Cz0T0x_ANq",
        "colab_type": "text"
      },
      "source": [
        "There are both finite and infinite dimensional vector spaces.  Examples (over field $F=\\mathbb{R}$)\n",
        "- Finite dimensional vector spaces\n",
        "    - $\\mathbb{R}^n$ (most important for data science)\n",
        "    - polynomials with degree $\\leq d$\n",
        "    - solutions to a differential equation\n",
        "- Infinite dimensional vector spaces\n",
        "    - [$L^p$-spaces](https://en.wikipedia.org/wiki/Lp_space#Lp_spaces)\n",
        "        - Let $S$ be a [measure space](https://en.wikipedia.org/wiki/Measure_space) equipped with a $\\sigma$-algebra $\\Sigma$ and measure $\\mu$.\n",
        "        - $L^p(S)$ is the set of all functions $f:S \\to \\mathbb{R}$ such that $\\int_S |f|^p d\\mu$ is defined and finite        - The choice $p=2$ produces a [Hilbert space](https://en.wikipedia.org/wiki/Hilbert_space).\n",
        "        - Ex: let $S=(a,b)$ be an interval in $\\mathbb{R}$ and $p=2$.  Then $L^2(S)$ is the space of all square-integrable functions $\\int_a^b |f|^2 dx < \\infty$.  One common basis is the [Fourier basis](https://en.wikipedia.org/wiki/Fourier_series) consisting of $\\cos(knx)$ and $\\sin(knx)$ for all $n=0,1,2,\\dots$ where $k=\\frac{2\\pi}{b-a}$\n",
        "\n",
        "All of the definitions & theoreom given above work for both finite and infinite dimension vector space.  In this class, we will deal almost exclusively with finite dimensional ones; you'll deal with infinite dimensional ones in Real Analysis.\n",
        "\n",
        "Below this point, we assume all vector spaces are finite dimensional.\n"
      ]
    },
    {
      "cell_type": "markdown",
      "metadata": {
        "id": "YWgKJK8OyEJU",
        "colab_type": "text"
      },
      "source": [
        "## Matrix Representations of a Linear Transformation"
      ]
    },
    {
      "cell_type": "markdown",
      "metadata": {
        "id": "2nEfiEh7x9TM",
        "colab_type": "text"
      },
      "source": [
        "\n",
        "- A linear transformation $T:V \\to W$ can be represented by a matrix.  In fact, there are MANY matrices for each linear transformation - one for each choice of basis on $V$ and $W$. \n",
        "- def: Let $\\mathcal{B}=\\{\\vec{v}_1, \\vec{v}_2, \\dots, \\vec{v}_p\\}$ and $\\mathcal{C}=\\{\\vec{w}_1, \\vec{w}_2, \\dots, \\vec{w}_n\\}$ be bases for $V$ and $W$ resp.  The *matrix representation of $T:V \\to W$ wrt $\\mathcal{B}$ and $\\mathcal{C}$* is the $n \\times p$ matrix where column $j$ is $[T(\\vec{v}_j)]_\\mathcal{C}$, the coordinate vector of $T(\\vec{v}_j)$ wrt $\\mathcal{C}$.  This matrix is often denoted $[T]_{\\mathcal{B}\\to\\mathcal{C}}$.\n"
      ]
    },
    {
      "cell_type": "markdown",
      "metadata": {
        "id": "X5FCr6ViycFo",
        "colab_type": "text"
      },
      "source": [
        "## Adjoint of a Linear Transformation"
      ]
    },
    {
      "cell_type": "markdown",
      "metadata": {
        "id": "kqmLJnejyRWO",
        "colab_type": "text"
      },
      "source": [
        "- def: The *transpose $A^T$* of a matrix $A$ flips across the diagonal.  In other words, the $(i,j)$ entry of $A^T$ is the $(j,i)$ entry of $A$.  In other words, the rows become columns (and conversely).\n",
        "- def: The (matrix representation of the) *adjoint $T^*$* of an operator $T:V \\to V$ wrt basis $\\mathcal{B}$ is the conjugate transpose of $[T]_{\\mathcal{B}\\to\\mathcal{B}}$.\n",
        "    - There is a definition of adjoint that does NOT depend on the choice of basis for $V$, but requires us to understand [inner products](https://en.wikipedia.org/wiki/Inner_product_space).  If you are curious, $T^*$ is the operator such that $\\langle T\\vec{x},\\vec{y} \\rangle = \\langle \\vec{x},T^*\\vec{y} \\rangle$ for all $\\vec{x},\\vec{y} \\in V$.\n",
        "- def: An operator is *normal* if it commutes with its adjoint $TT^*=T^*T$.\n",
        "- def: An operator is *self-adjoint* (or *Hermitian*) if it equals its adjoint $T^*=T$.\n",
        "    - Clearly, self-adjoint $\\implies$ normal"
      ]
    },
    {
      "cell_type": "markdown",
      "metadata": {
        "id": "dKckHxQDXzLE",
        "colab_type": "text"
      },
      "source": [
        "## The Spectral Theorem - The BIG Theorem\n",
        "https://en.wikipedia.org/wiki/Spectral_theorem\n"
      ]
    },
    {
      "cell_type": "markdown",
      "metadata": {
        "id": "gbwQVpTuXudd",
        "colab_type": "text"
      },
      "source": [
        "- Spectral Theorem Part 1 - Suppose $F=\\mathbb{C}$.  An operator $T:V \\to V$ is normal if and only if there exists an eigenbasis of $T$ for $V$.\n",
        "    - This part allows complex numbers\n",
        "    - Only requires $T$ to be normal (weaker than self-adjoint)\n",
        "    - Even if we start with only real number, the eigenvalues and eigenvectors may involve complex numbers\n",
        "- Spectral Theorem Part 2 - Suppose $F=\\mathbb{R}$.  An operator $T:V \\to V$ is self-adjoint if and only if there exists an eigenbasis of $T$ for $V$.\n",
        "    - This part involves only real numbers\n",
        "    - Requires $T$ to be self-adjoint\n",
        "    - All eigenvalues \\& eigenvectors are real (no imaginary part)\n",
        "    - This part is more important for data science, since data is usually real\n",
        "   \n",
        "In fact, this eigenbasis is also [orthonormal](https://en.wikipedia.org/wiki/Orthonormal_basis).\n",
        "\n",
        "For more detail, see section 7.B of Sheldon Axler's [Linear Algebra Done Right](http://linear.axler.net/)\n",
        "\n",
        "\n",
        "Sort the eigenvalues by modulus from largest to smallest so that $|\\lambda_1| \\geq |\\lambda_2| \\geq |\\lambda_3| \\geq \\dots$.  Apply the same sort to the eigenvectors.  Let $\\mathcal{E}$ denote the resulting basis.\n",
        "\n",
        "- def: Let $D$ be a $p \\times p$ diagonal matrix with the (sorted) eigenvalues down its diagonal.\n",
        "\n",
        "- def: Let $V$ be a $p \\times p$ matrix with the (sorted) eigenvectors as its columns.\n",
        "\n",
        "- Theorem: In this siutation\n",
        "    1. $[T]_\\mathcal{E} = D$\n",
        "    1. If $C$ is a matrix representation of $T$ in any other basis, then $C=VDV^{-1}$.  This is called the *eigendecomposition* of $C$."
      ]
    },
    {
      "cell_type": "markdown",
      "metadata": {
        "id": "1IVSJneJrruV",
        "colab_type": "text"
      },
      "source": [
        "## Positive Definite Operators"
      ]
    },
    {
      "cell_type": "markdown",
      "metadata": {
        "id": "OR_jAPf_rzLC",
        "colab_type": "text"
      },
      "source": [
        "- def: An operator is *positive definite* or *positive semidefinite* if all of its eigenvalues are real and $>0$ or $\\geq0$ respectively.\n",
        "\n",
        "- Theorem: A self-adjoint operator $T$ is positive semidefinite if and only if if there exists an operator $R$ such that $T=R^*R$.\n"
      ]
    },
    {
      "cell_type": "markdown",
      "metadata": {
        "id": "D3w9PX9C8xz5",
        "colab_type": "text"
      },
      "source": [
        "# Principal Components Analysis"
      ]
    },
    {
      "cell_type": "markdown",
      "metadata": {
        "id": "rtgtrutw8sEi",
        "colab_type": "text"
      },
      "source": [
        "Let $A$ be an $n \\times p$ matrix representing $n$ observations of $p$ quantitative variables.  Let $B$ be the recentered dataset obtained by subtracting each entry by the mean of its column.\n",
        "\n",
        "- def: The *covariance* matrix is the $p \\times p$ matrix $C = (B^* B)/(n-1)$.\n",
        "    - The $(i,j)$ entry is the covariance of columns $i$ and $j$.  Because covariance does not depend on order, this equals the $(j,i)$ entry.\n",
        "    - Thus $C$ is *symmetric* $C=C^T$\n",
        "    - $C$ is real (assuming your dataset is real), so $C$ is its own conjugate $C=\\bar{C}$\n",
        "    - Therefore, $C$ is self-adjoint $C^*=C$\n",
        "    - Therefore, the Spectral Theorem part 2 applies.\n",
        "    - Therefore, there is an eigenbasis of $C$ for $\\mathbb{R}^p$ with real eigenvalues and eigenvectors.\n",
        "    - Moveover, $C$ is positive semidefinite by the theorem above.\n",
        "    - Therefore $C$'s eigenvalues are all $\\lambda_i\\geq 0$\n",
        "- def: The *principal components* of a dataset is an eigenbasis of its covariance matrix.  Define V & D as above, making sure to sort the eigenvalues from largest to smallest and the eigenvectors correspondingly.\n",
        "- def: $s = \\Sigma_1^p \\lambda_i$ is the *total variance*.\n",
        "- def: $\\lambda_i$ and $\\lambda_i / s$ are the *explained variance* and *explained variance ratio* (resp) of the $i^{th}$ principal component.\n",
        "- Let $q \\leq p$.  Let $Z$ be the $q$ leftmost columns of $V$.\n",
        "    - Recall that we sorted eigenvalues/vectors so that the columns of $V$ decrease in explained variance from left to right.  Therefore, these are the $q$ most important columns.\n",
        "- def: The *rank-q principal component tranformation* of $A$ is $A'=BZ$.\n",
        "    - Let $r = \\Sigma_1^q \\lambda_i/s$\n",
        "    - $r$ is the proportion of $A$'s total variance that $A'$ preserves.  In other word, the reduced dataset $A'$ only loses $1-r$ of the information in $A$.\n",
        "    - Smaller q $\\implies$ greater dimensionality reduction, but more loss of information\n",
        "    - The user may select the desired balance of compression and fidelity"
      ]
    }
  ]
}